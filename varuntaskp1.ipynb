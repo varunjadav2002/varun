{
 "cells": [
  {
   "cell_type": "code",
   "execution_count": 1,
   "metadata": {},
   "outputs": [
    {
     "name": "stdout",
     "output_type": "stream",
     "text": [
      "    calories  duration\n",
      "0        420        50\n",
      "1        380        40\n",
      "2        390        45\n",
      "3        576        35\n",
      "4       6978        67\n",
      "5        796        89\n",
      "6        453        68\n",
      "7        998        23\n",
      "8        112        68\n",
      "9        443        79\n",
      "10       675        88\n",
      "11       123        35\n",
      "12       324        57\n",
      "13       679        68\n",
      "14       455        66\n"
     ]
    }
   ],
   "source": [
    "import pandas as pd\n",
    "\n",
    "data = {\n",
    "    \"calories\": [420,380,390,576,6978,796,453,998,112,443,675,123,324,679,455],\n",
    "    \"duration\": [50,40,45,35,67,89,68,23,68,79,88,35,57,68,66]\n",
    "}\n",
    "\n",
    "df = pd.DataFrame(data)\n",
    "print(df)"
   ]
  }
 ],
 "metadata": {
  "kernelspec": {
   "display_name": "Python 3",
   "language": "python",
   "name": "python3"
  },
  "language_info": {
   "codemirror_mode": {
    "name": "ipython",
    "version": 3
   },
   "file_extension": ".py",
   "mimetype": "text/x-python",
   "name": "python",
   "nbconvert_exporter": "python",
   "pygments_lexer": "ipython3",
   "version": "3.11.3"
  }
 },
 "nbformat": 4,
 "nbformat_minor": 2
}
